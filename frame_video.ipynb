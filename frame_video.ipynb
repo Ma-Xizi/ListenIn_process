{
 "cells": [
  {
   "cell_type": "code",
   "execution_count": null,
   "metadata": {},
   "outputs": [],
   "source": [
    "import cv2\n",
    "import numpy as np\n",
    "def extract_frames(video_path):\n",
    "    cap = cv2.VideoCapture(video_path)\n",
    "    frames = []\n",
    "    while cap.isOpened():\n",
    "        ret, frame = cap.read()\n",
    "        if not ret:\n",
    "            break\n",
    "        gray_frame = cv2.cvtColor(frame, cv2.COLOR_BGR2GRAY)\n",
    "        resized_frame = cv2.resize(gray_frame, (28, 28))\n",
    "        frames.append(resized_frame)\n",
    "    cap.release()\n",
    "    return frames"
   ]
  },
  {
   "cell_type": "code",
   "execution_count": null,
   "metadata": {},
   "outputs": [],
   "source": [
    "def load_gesture_frame(letter):\n",
    "    # Example: Load an image file as a frame\n",
    "    frame_path = f\"frames/{letter}.png\"\n",
    "    frame = cv2.imread(frame_path, cv2.IMREAD_GRAYSCALE)  # Assuming grayscale images\n",
    "    return frame\n",
    "\n",
    "\n",
    "def create_video_from_frames(frames, output_file, fps=10):\n",
    "    height, width = frames[0].shape\n",
    "    fourcc = cv2.VideoWriter_fourcc(*'XVID')\n",
    "    video = cv2.VideoWriter(output_file, fourcc, fps, (width, height), isColor=False)\n",
    "\n",
    "    for frame in frames:\n",
    "        frame_np = np.uint8(frame)  # Ensure the frame is in uint8 format\n",
    "        video.write(cv2.cvtColor(frame_np, cv2.COLOR_GRAY2BGR))  # Convert to BGR for video writing\n",
    "\n",
    "    video.release()"
   ]
  }
 ],
 "metadata": {
  "language_info": {
   "name": "python"
  }
 },
 "nbformat": 4,
 "nbformat_minor": 2
}
